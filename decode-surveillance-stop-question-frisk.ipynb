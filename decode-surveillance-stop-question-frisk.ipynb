{
 "cells": [
  {
   "cell_type": "code",
   "execution_count": 1,
   "metadata": {},
   "outputs": [],
   "source": [
    "import pandas as pd\n",
    "import math\n",
    "import altair as alt"
   ]
  },
  {
   "cell_type": "markdown",
   "metadata": {},
   "source": [
    "# Stop, question and frisk data\n",
    "\n",
    "Source: NYPD"
   ]
  },
  {
   "cell_type": "markdown",
   "metadata": {},
   "source": [
    "## Load data"
   ]
  },
  {
   "cell_type": "code",
   "execution_count": 2,
   "metadata": {},
   "outputs": [
    {
     "name": "stdout",
     "output_type": "stream",
     "text": [
      "<class 'pandas.core.frame.DataFrame'>\n",
      "RangeIndex: 13459 entries, 0 to 13458\n",
      "Data columns (total 6 columns):\n",
      " #   Column                   Non-Null Count  Dtype \n",
      "---  ------                   --------------  ----- \n",
      " 0   stop_id_anony            13459 non-null  int64 \n",
      " 1   frisked_flag             13459 non-null  object\n",
      " 2   searched_flag            13459 non-null  object\n",
      " 3   stop_location_x          13459 non-null  int64 \n",
      " 4   stop_location_y          13459 non-null  int64 \n",
      " 5   stop_location_boro_name  13459 non-null  object\n",
      "dtypes: int64(3), object(3)\n",
      "memory usage: 631.0+ KB\n"
     ]
    },
    {
     "data": {
      "text/html": [
       "<div>\n",
       "<style scoped>\n",
       "    .dataframe tbody tr th:only-of-type {\n",
       "        vertical-align: middle;\n",
       "    }\n",
       "\n",
       "    .dataframe tbody tr th {\n",
       "        vertical-align: top;\n",
       "    }\n",
       "\n",
       "    .dataframe thead th {\n",
       "        text-align: right;\n",
       "    }\n",
       "</style>\n",
       "<table border=\"1\" class=\"dataframe\">\n",
       "  <thead>\n",
       "    <tr style=\"text-align: right;\">\n",
       "      <th></th>\n",
       "      <th>stop_id_anony</th>\n",
       "      <th>frisked_flag</th>\n",
       "      <th>searched_flag</th>\n",
       "      <th>stop_location_x</th>\n",
       "      <th>stop_location_y</th>\n",
       "      <th>stop_location_boro_name</th>\n",
       "    </tr>\n",
       "  </thead>\n",
       "  <tbody>\n",
       "    <tr>\n",
       "      <th>0</th>\n",
       "      <td>1</td>\n",
       "      <td>Y</td>\n",
       "      <td>N</td>\n",
       "      <td>979667</td>\n",
       "      <td>199737</td>\n",
       "      <td>MANHATTAN</td>\n",
       "    </tr>\n",
       "    <tr>\n",
       "      <th>1</th>\n",
       "      <td>2</td>\n",
       "      <td>N</td>\n",
       "      <td>Y</td>\n",
       "      <td>982650</td>\n",
       "      <td>201326</td>\n",
       "      <td>MANHATTAN</td>\n",
       "    </tr>\n",
       "    <tr>\n",
       "      <th>2</th>\n",
       "      <td>3</td>\n",
       "      <td>N</td>\n",
       "      <td>N</td>\n",
       "      <td>984063</td>\n",
       "      <td>203033</td>\n",
       "      <td>MANHATTAN</td>\n",
       "    </tr>\n",
       "    <tr>\n",
       "      <th>3</th>\n",
       "      <td>4</td>\n",
       "      <td>N</td>\n",
       "      <td>N</td>\n",
       "      <td>982848</td>\n",
       "      <td>202677</td>\n",
       "      <td>MANHATTAN</td>\n",
       "    </tr>\n",
       "    <tr>\n",
       "      <th>4</th>\n",
       "      <td>5</td>\n",
       "      <td>Y</td>\n",
       "      <td>N</td>\n",
       "      <td>983100</td>\n",
       "      <td>202705</td>\n",
       "      <td>MANHATTAN</td>\n",
       "    </tr>\n",
       "  </tbody>\n",
       "</table>\n",
       "</div>"
      ],
      "text/plain": [
       "   stop_id_anony frisked_flag searched_flag  stop_location_x  stop_location_y  \\\n",
       "0              1            Y             N           979667           199737   \n",
       "1              2            N             Y           982650           201326   \n",
       "2              3            N             N           984063           203033   \n",
       "3              4            N             N           982848           202677   \n",
       "4              5            Y             N           983100           202705   \n",
       "\n",
       "  stop_location_boro_name  \n",
       "0               MANHATTAN  \n",
       "1               MANHATTAN  \n",
       "2               MANHATTAN  \n",
       "3               MANHATTAN  \n",
       "4               MANHATTAN  "
      ]
     },
     "execution_count": 2,
     "metadata": {},
     "output_type": "execute_result"
    }
   ],
   "source": [
    "df_sqf = pd.read_excel(\"data/raw/sqf-2019.xlsx\", usecols=[0, 29, 30, 78, 79, 82])\n",
    "df_sqf.columns = df_sqf.columns.str.lower()\n",
    "\n",
    "df_sqf.info()\n",
    "df_sqf.head()"
   ]
  },
  {
   "cell_type": "markdown",
   "metadata": {},
   "source": [
    "## Calculate top-line statistics (all boroughs)"
   ]
  },
  {
   "cell_type": "code",
   "execution_count": 3,
   "metadata": {},
   "outputs": [],
   "source": [
    "#  From https://realpython.com/python-rounding/#rounding-half-up\n",
    "\n",
    "\n",
    "def round_half_up(n, decimals=0):\n",
    "    multiplier = 10 ** decimals\n",
    "\n",
    "    return math.floor(n * multiplier + 0.5) / multiplier"
   ]
  },
  {
   "cell_type": "code",
   "execution_count": 4,
   "metadata": {},
   "outputs": [
    {
     "name": "stdout",
     "output_type": "stream",
     "text": [
      "\n",
      "Number stopped: 13459\n",
      "Number frisked: 7624\n",
      "Number searched: 4988\n",
      "Number frisked or searched: 9227\n",
      "Per cent frisked: 56.6\n",
      "Per cent searched: 37.1\n",
      "Per cent frisked or searched: 68.6\n"
     ]
    }
   ],
   "source": [
    "stopped_count = df_sqf[\"stop_id_anony\"].nunique()\n",
    "frisked_count = df_sqf.query(\"frisked_flag == 'Y'\")[\"stop_id_anony\"].nunique()\n",
    "searched_count = df_sqf.query(\"searched_flag == 'Y'\")[\"stop_id_anony\"].nunique()\n",
    "frisked_searched_count = df_sqf.query(\"frisked_flag == 'Y' or searched_flag == 'Y'\")[\n",
    "    \"stop_id_anony\"\n",
    "].nunique()\n",
    "frisked_pc = round_half_up(frisked_count / stopped_count * 100, 1)\n",
    "searched_pc = round_half_up(searched_count / stopped_count * 100, 1)\n",
    "frisked_searched_pc = round_half_up(frisked_searched_count / stopped_count * 100, 1)\n",
    "\n",
    "print(\n",
    "    f\"\"\"\n",
    "Number stopped: {stopped_count}\n",
    "Number frisked: {frisked_count}\n",
    "Number searched: {searched_count}\n",
    "Number frisked or searched: {frisked_searched_count}\n",
    "Per cent frisked: {frisked_pc}\n",
    "Per cent searched: {searched_pc}\n",
    "Per cent frisked or searched: {frisked_searched_pc}\"\"\"\n",
    ")"
   ]
  },
  {
   "cell_type": "markdown",
   "metadata": {},
   "source": [
    "## Export to `.csv` for counting points in polygons in QGIS"
   ]
  },
  {
   "cell_type": "code",
   "execution_count": 5,
   "metadata": {},
   "outputs": [],
   "source": [
    "df_sqf.to_csv(\"data/processed/stop-question-frisk-2019.csv\", index=False)"
   ]
  },
  {
   "cell_type": "markdown",
   "metadata": {},
   "source": [
    "## Load stops count exported from QGIS (three boroughs; includes parks)"
   ]
  },
  {
   "cell_type": "code",
   "execution_count": 6,
   "metadata": {},
   "outputs": [
    {
     "name": "stdout",
     "output_type": "stream",
     "text": [
      "<class 'pandas.core.frame.DataFrame'>\n",
      "RangeIndex: 118 entries, 0 to 117\n",
      "Data columns (total 5 columns):\n",
      " #   Column        Non-Null Count  Dtype \n",
      "---  ------        --------------  ----- \n",
      " 0   borough_code  118 non-null    int64 \n",
      " 1   borough_name  118 non-null    object\n",
      " 2   nta_code      118 non-null    object\n",
      " 3   nta_name      118 non-null    object\n",
      " 4   num_stops     118 non-null    int64 \n",
      "dtypes: int64(2), object(3)\n",
      "memory usage: 4.7+ KB\n"
     ]
    },
    {
     "data": {
      "text/html": [
       "<div>\n",
       "<style scoped>\n",
       "    .dataframe tbody tr th:only-of-type {\n",
       "        vertical-align: middle;\n",
       "    }\n",
       "\n",
       "    .dataframe tbody tr th {\n",
       "        vertical-align: top;\n",
       "    }\n",
       "\n",
       "    .dataframe thead th {\n",
       "        text-align: right;\n",
       "    }\n",
       "</style>\n",
       "<table border=\"1\" class=\"dataframe\">\n",
       "  <thead>\n",
       "    <tr style=\"text-align: right;\">\n",
       "      <th></th>\n",
       "      <th>borough_code</th>\n",
       "      <th>borough_name</th>\n",
       "      <th>nta_code</th>\n",
       "      <th>nta_name</th>\n",
       "      <th>num_stops</th>\n",
       "    </tr>\n",
       "  </thead>\n",
       "  <tbody>\n",
       "    <tr>\n",
       "      <th>0</th>\n",
       "      <td>3</td>\n",
       "      <td>Brooklyn</td>\n",
       "      <td>BK09</td>\n",
       "      <td>Brooklyn Heights-Cobble Hill</td>\n",
       "      <td>29</td>\n",
       "    </tr>\n",
       "    <tr>\n",
       "      <th>1</th>\n",
       "      <td>3</td>\n",
       "      <td>Brooklyn</td>\n",
       "      <td>BK17</td>\n",
       "      <td>Sheepshead Bay-Gerritsen Beach-Manhattan Beach</td>\n",
       "      <td>65</td>\n",
       "    </tr>\n",
       "    <tr>\n",
       "      <th>2</th>\n",
       "      <td>3</td>\n",
       "      <td>Brooklyn</td>\n",
       "      <td>BK19</td>\n",
       "      <td>Brighton Beach</td>\n",
       "      <td>44</td>\n",
       "    </tr>\n",
       "    <tr>\n",
       "      <th>3</th>\n",
       "      <td>3</td>\n",
       "      <td>Brooklyn</td>\n",
       "      <td>BK21</td>\n",
       "      <td>Seagate-Coney Island</td>\n",
       "      <td>153</td>\n",
       "    </tr>\n",
       "    <tr>\n",
       "      <th>4</th>\n",
       "      <td>3</td>\n",
       "      <td>Brooklyn</td>\n",
       "      <td>BK23</td>\n",
       "      <td>West Brighton</td>\n",
       "      <td>15</td>\n",
       "    </tr>\n",
       "  </tbody>\n",
       "</table>\n",
       "</div>"
      ],
      "text/plain": [
       "   borough_code borough_name nta_code  \\\n",
       "0             3     Brooklyn     BK09   \n",
       "1             3     Brooklyn     BK17   \n",
       "2             3     Brooklyn     BK19   \n",
       "3             3     Brooklyn     BK21   \n",
       "4             3     Brooklyn     BK23   \n",
       "\n",
       "                                         nta_name  num_stops  \n",
       "0                    Brooklyn Heights-Cobble Hill         29  \n",
       "1  Sheepshead Bay-Gerritsen Beach-Manhattan Beach         65  \n",
       "2                                  Brighton Beach         44  \n",
       "3                            Seagate-Coney Island        153  \n",
       "4                                   West Brighton         15  "
      ]
     },
     "execution_count": 6,
     "metadata": {},
     "output_type": "execute_result"
    }
   ],
   "source": [
    "df_stops = (\n",
    "    pd.read_csv(\n",
    "        \"data/processed/num-stops-by-nta.csv\",\n",
    "        usecols=[0, 1, 3, 4, 7],\n",
    "        header=0,\n",
    "        names=[\"borough_code\", \"borough_name\", \"nta_code\", \"nta_name\", \"num_stops\"],\n",
    "    )\n",
    "    .query(\"borough_name in ['Bronx', 'Brooklyn', 'Manhattan']\")\n",
    "    .sort_values(\"nta_code\")\n",
    "    .reset_index(drop=True)\n",
    ")\n",
    "\n",
    "df_stops.info()\n",
    "df_stops.head()"
   ]
  },
  {
   "cell_type": "code",
   "execution_count": 7,
   "metadata": {},
   "outputs": [
    {
     "data": {
      "text/plain": [
       "10498"
      ]
     },
     "execution_count": 7,
     "metadata": {},
     "output_type": "execute_result"
    }
   ],
   "source": [
    "df_stops[\"num_stops\"].sum()"
   ]
  },
  {
   "cell_type": "markdown",
   "metadata": {},
   "source": [
    "## Calculate stops by borough"
   ]
  },
  {
   "cell_type": "code",
   "execution_count": 8,
   "metadata": {},
   "outputs": [
    {
     "name": "stdout",
     "output_type": "stream",
     "text": [
      "2450 4311 3737\n"
     ]
    }
   ],
   "source": [
    "bronx_stopped = df_stops.query(\"borough_name == 'Bronx'\")[\"num_stops\"].sum()\n",
    "brooklyn_stopped = df_stops.query(\"borough_name == 'Brooklyn'\")[\"num_stops\"].sum()\n",
    "manhattan_stopped = df_stops.query(\"borough_name == 'Manhattan'\")[\"num_stops\"].sum()\n",
    "\n",
    "print(bronx_stopped, brooklyn_stopped, manhattan_stopped)"
   ]
  },
  {
   "cell_type": "markdown",
   "metadata": {},
   "source": [
    "## Join to adjusted intersections data"
   ]
  },
  {
   "cell_type": "code",
   "execution_count": 9,
   "metadata": {},
   "outputs": [
    {
     "name": "stdout",
     "output_type": "stream",
     "text": [
      "<class 'pandas.core.frame.DataFrame'>\n",
      "RangeIndex: 19396 entries, 0 to 19395\n",
      "Data columns (total 7 columns):\n",
      " #   Column            Non-Null Count  Dtype \n",
      "---  ------            --------------  ----- \n",
      " 0   intersection_id   19396 non-null  object\n",
      " 1   borough           19396 non-null  object\n",
      " 2   public_median     19396 non-null  int64 \n",
      " 3   private_median    19396 non-null  int64 \n",
      " 4   total_median      19396 non-null  int64 \n",
      " 5   adjusted_NTACode  19396 non-null  object\n",
      " 6   adjusted_NTAName  19396 non-null  object\n",
      "dtypes: int64(3), object(4)\n",
      "memory usage: 1.0+ MB\n"
     ]
    },
    {
     "data": {
      "text/html": [
       "<div>\n",
       "<style scoped>\n",
       "    .dataframe tbody tr th:only-of-type {\n",
       "        vertical-align: middle;\n",
       "    }\n",
       "\n",
       "    .dataframe tbody tr th {\n",
       "        vertical-align: top;\n",
       "    }\n",
       "\n",
       "    .dataframe thead th {\n",
       "        text-align: right;\n",
       "    }\n",
       "</style>\n",
       "<table border=\"1\" class=\"dataframe\">\n",
       "  <thead>\n",
       "    <tr style=\"text-align: right;\">\n",
       "      <th></th>\n",
       "      <th>intersection_id</th>\n",
       "      <th>borough</th>\n",
       "      <th>public_median</th>\n",
       "      <th>private_median</th>\n",
       "      <th>total_median</th>\n",
       "      <th>adjusted_NTACode</th>\n",
       "      <th>adjusted_NTAName</th>\n",
       "    </tr>\n",
       "  </thead>\n",
       "  <tbody>\n",
       "    <tr>\n",
       "      <th>0</th>\n",
       "      <td>AXkw4-uH2iuwklCl-qox</td>\n",
       "      <td>Brooklyn</td>\n",
       "      <td>0</td>\n",
       "      <td>1</td>\n",
       "      <td>1</td>\n",
       "      <td>BK88</td>\n",
       "      <td>Borough Park</td>\n",
       "    </tr>\n",
       "    <tr>\n",
       "      <th>1</th>\n",
       "      <td>AXkw40-B2iuwklCl-qao</td>\n",
       "      <td>Brooklyn</td>\n",
       "      <td>0</td>\n",
       "      <td>0</td>\n",
       "      <td>0</td>\n",
       "      <td>BK88</td>\n",
       "      <td>Borough Park</td>\n",
       "    </tr>\n",
       "    <tr>\n",
       "      <th>2</th>\n",
       "      <td>AXkw40-x2iuwklCl-qap</td>\n",
       "      <td>Brooklyn</td>\n",
       "      <td>0</td>\n",
       "      <td>1</td>\n",
       "      <td>1</td>\n",
       "      <td>BK88</td>\n",
       "      <td>Borough Park</td>\n",
       "    </tr>\n",
       "    <tr>\n",
       "      <th>3</th>\n",
       "      <td>AXkw405zLVwDtjXR1gOB</td>\n",
       "      <td>Brooklyn</td>\n",
       "      <td>0</td>\n",
       "      <td>1</td>\n",
       "      <td>1</td>\n",
       "      <td>BK88</td>\n",
       "      <td>Borough Park</td>\n",
       "    </tr>\n",
       "    <tr>\n",
       "      <th>4</th>\n",
       "      <td>AXkw406iLVwDtjXR1gOC</td>\n",
       "      <td>Brooklyn</td>\n",
       "      <td>0</td>\n",
       "      <td>0</td>\n",
       "      <td>0</td>\n",
       "      <td>BK88</td>\n",
       "      <td>Borough Park</td>\n",
       "    </tr>\n",
       "  </tbody>\n",
       "</table>\n",
       "</div>"
      ],
      "text/plain": [
       "        intersection_id   borough  public_median  private_median  \\\n",
       "0  AXkw4-uH2iuwklCl-qox  Brooklyn              0               1   \n",
       "1  AXkw40-B2iuwklCl-qao  Brooklyn              0               0   \n",
       "2  AXkw40-x2iuwklCl-qap  Brooklyn              0               1   \n",
       "3  AXkw405zLVwDtjXR1gOB  Brooklyn              0               1   \n",
       "4  AXkw406iLVwDtjXR1gOC  Brooklyn              0               0   \n",
       "\n",
       "   total_median adjusted_NTACode adjusted_NTAName  \n",
       "0             1             BK88     Borough Park  \n",
       "1             0             BK88     Borough Park  \n",
       "2             1             BK88     Borough Park  \n",
       "3             1             BK88     Borough Park  \n",
       "4             0             BK88     Borough Park  "
      ]
     },
     "execution_count": 9,
     "metadata": {},
     "output_type": "execute_result"
    }
   ],
   "source": [
    "df_intersections_adj = pd.read_csv(\n",
    "    \"data/processed/camera-medians-2021-05-19-ntas-adjusted-recoded.csv\"\n",
    ")\n",
    "\n",
    "df_intersections_adj.info()\n",
    "df_intersections_adj.head()"
   ]
  },
  {
   "cell_type": "markdown",
   "metadata": {},
   "source": [
    "## Calculate top-line statistics from joined data"
   ]
  },
  {
   "cell_type": "markdown",
   "metadata": {},
   "source": [
    "### Overall correlation between stops and intersections/cameras"
   ]
  },
  {
   "cell_type": "code",
   "execution_count": null,
   "metadata": {},
   "outputs": [],
   "source": [
    "# TKTK"
   ]
  },
  {
   "cell_type": "markdown",
   "metadata": {},
   "source": [
    "### Correlation between stops and intersections/cameras by borough"
   ]
  },
  {
   "cell_type": "code",
   "execution_count": null,
   "metadata": {},
   "outputs": [],
   "source": [
    "# TKTK"
   ]
  },
  {
   "cell_type": "markdown",
   "metadata": {},
   "source": [
    "### Stops per 100 cameras"
   ]
  },
  {
   "cell_type": "code",
   "execution_count": null,
   "metadata": {},
   "outputs": [],
   "source": [
    "# TKTK"
   ]
  }
 ],
 "metadata": {
  "kernelspec": {
   "display_name": "Python 3",
   "language": "python",
   "name": "python3"
  },
  "language_info": {
   "codemirror_mode": {
    "name": "ipython",
    "version": 3
   },
   "file_extension": ".py",
   "mimetype": "text/x-python",
   "name": "python",
   "nbconvert_exporter": "python",
   "pygments_lexer": "ipython3",
   "version": "3.8.6"
  }
 },
 "nbformat": 4,
 "nbformat_minor": 4
}
