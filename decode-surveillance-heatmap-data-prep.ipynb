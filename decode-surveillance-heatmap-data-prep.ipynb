{
 "cells": [
  {
   "cell_type": "code",
   "execution_count": 1,
   "metadata": {},
   "outputs": [],
   "source": [
    "import pandas as pd\n",
    "import geopandas as gpd"
   ]
  },
  {
   "cell_type": "markdown",
   "metadata": {},
   "source": [
    "# Import intersections/private cameras data"
   ]
  },
  {
   "cell_type": "code",
   "execution_count": 2,
   "metadata": {},
   "outputs": [
    {
     "name": "stdout",
     "output_type": "stream",
     "text": [
      "<class 'pandas.core.frame.DataFrame'>\n",
      "RangeIndex: 6321 entries, 0 to 6320\n",
      "Data columns (total 4 columns):\n",
      " #   Column             Non-Null Count  Dtype  \n",
      "---  ------             --------------  -----  \n",
      " 0   IntersectionId     6321 non-null   object \n",
      " 1   n_private_cameras  6321 non-null   float64\n",
      " 2   Lat                6321 non-null   float64\n",
      " 3   Long               6321 non-null   float64\n",
      "dtypes: float64(3), object(1)\n",
      "memory usage: 197.7+ KB\n"
     ]
    },
    {
     "data": {
      "text/html": [
       "<div>\n",
       "<style scoped>\n",
       "    .dataframe tbody tr th:only-of-type {\n",
       "        vertical-align: middle;\n",
       "    }\n",
       "\n",
       "    .dataframe tbody tr th {\n",
       "        vertical-align: top;\n",
       "    }\n",
       "\n",
       "    .dataframe thead th {\n",
       "        text-align: right;\n",
       "    }\n",
       "</style>\n",
       "<table border=\"1\" class=\"dataframe\">\n",
       "  <thead>\n",
       "    <tr style=\"text-align: right;\">\n",
       "      <th></th>\n",
       "      <th>IntersectionId</th>\n",
       "      <th>n_private_cameras</th>\n",
       "      <th>Lat</th>\n",
       "      <th>Long</th>\n",
       "    </tr>\n",
       "  </thead>\n",
       "  <tbody>\n",
       "    <tr>\n",
       "      <th>0</th>\n",
       "      <td>AXjK_-0aLVwDtjXR1esO</td>\n",
       "      <td>1.0</td>\n",
       "      <td>40.859676</td>\n",
       "      <td>-73.859772</td>\n",
       "    </tr>\n",
       "    <tr>\n",
       "      <th>1</th>\n",
       "      <td>AXjK_-3agxjkLnQCdqZy</td>\n",
       "      <td>2.0</td>\n",
       "      <td>40.854365</td>\n",
       "      <td>-73.868713</td>\n",
       "    </tr>\n",
       "    <tr>\n",
       "      <th>2</th>\n",
       "      <td>AXjK_-5agxjkLnQCdqZ1</td>\n",
       "      <td>1.0</td>\n",
       "      <td>40.858956</td>\n",
       "      <td>-73.836250</td>\n",
       "    </tr>\n",
       "    <tr>\n",
       "      <th>3</th>\n",
       "      <td>AXjK_-5dLVwDtjXR1esV</td>\n",
       "      <td>3.0</td>\n",
       "      <td>40.832563</td>\n",
       "      <td>-73.885352</td>\n",
       "    </tr>\n",
       "    <tr>\n",
       "      <th>4</th>\n",
       "      <td>AXjK_-6kLVwDtjXR1esX</td>\n",
       "      <td>2.0</td>\n",
       "      <td>40.835918</td>\n",
       "      <td>-73.883474</td>\n",
       "    </tr>\n",
       "  </tbody>\n",
       "</table>\n",
       "</div>"
      ],
      "text/plain": [
       "         IntersectionId  n_private_cameras        Lat       Long\n",
       "0  AXjK_-0aLVwDtjXR1esO                1.0  40.859676 -73.859772\n",
       "1  AXjK_-3agxjkLnQCdqZy                2.0  40.854365 -73.868713\n",
       "2  AXjK_-5agxjkLnQCdqZ1                1.0  40.858956 -73.836250\n",
       "3  AXjK_-5dLVwDtjXR1esV                3.0  40.832563 -73.885352\n",
       "4  AXjK_-6kLVwDtjXR1esX                2.0  40.835918 -73.883474"
      ]
     },
     "execution_count": 2,
     "metadata": {},
     "output_type": "execute_result"
    }
   ],
   "source": [
    "df_private = pd.read_csv(\n",
    "    \"data/raw/all_intersections_with_private_cameras_and_how_many.csv\",\n",
    "    usecols=[0, 1, 7, 8],\n",
    ")\n",
    "\n",
    "df_private.info()\n",
    "df_private.head()"
   ]
  },
  {
   "cell_type": "code",
   "execution_count": 3,
   "metadata": {},
   "outputs": [
    {
     "name": "stdout",
     "output_type": "stream",
     "text": [
      "<class 'geopandas.geodataframe.GeoDataFrame'>\n",
      "RangeIndex: 6321 entries, 0 to 6320\n",
      "Data columns (total 3 columns):\n",
      " #   Column             Non-Null Count  Dtype   \n",
      "---  ------             --------------  -----   \n",
      " 0   IntersectionId     6321 non-null   object  \n",
      " 1   n_private_cameras  6321 non-null   float64 \n",
      " 2   geometry           6321 non-null   geometry\n",
      "dtypes: float64(1), geometry(1), object(1)\n",
      "memory usage: 148.3+ KB\n"
     ]
    },
    {
     "data": {
      "text/html": [
       "<div>\n",
       "<style scoped>\n",
       "    .dataframe tbody tr th:only-of-type {\n",
       "        vertical-align: middle;\n",
       "    }\n",
       "\n",
       "    .dataframe tbody tr th {\n",
       "        vertical-align: top;\n",
       "    }\n",
       "\n",
       "    .dataframe thead th {\n",
       "        text-align: right;\n",
       "    }\n",
       "</style>\n",
       "<table border=\"1\" class=\"dataframe\">\n",
       "  <thead>\n",
       "    <tr style=\"text-align: right;\">\n",
       "      <th></th>\n",
       "      <th>IntersectionId</th>\n",
       "      <th>n_private_cameras</th>\n",
       "      <th>geometry</th>\n",
       "    </tr>\n",
       "  </thead>\n",
       "  <tbody>\n",
       "    <tr>\n",
       "      <th>0</th>\n",
       "      <td>AXjK_-0aLVwDtjXR1esO</td>\n",
       "      <td>1.0</td>\n",
       "      <td>POINT (-73.85977 40.85968)</td>\n",
       "    </tr>\n",
       "    <tr>\n",
       "      <th>1</th>\n",
       "      <td>AXjK_-3agxjkLnQCdqZy</td>\n",
       "      <td>2.0</td>\n",
       "      <td>POINT (-73.86871 40.85437)</td>\n",
       "    </tr>\n",
       "    <tr>\n",
       "      <th>2</th>\n",
       "      <td>AXjK_-5agxjkLnQCdqZ1</td>\n",
       "      <td>1.0</td>\n",
       "      <td>POINT (-73.83625 40.85896)</td>\n",
       "    </tr>\n",
       "    <tr>\n",
       "      <th>3</th>\n",
       "      <td>AXjK_-5dLVwDtjXR1esV</td>\n",
       "      <td>3.0</td>\n",
       "      <td>POINT (-73.88535 40.83256)</td>\n",
       "    </tr>\n",
       "    <tr>\n",
       "      <th>4</th>\n",
       "      <td>AXjK_-6kLVwDtjXR1esX</td>\n",
       "      <td>2.0</td>\n",
       "      <td>POINT (-73.88347 40.83592)</td>\n",
       "    </tr>\n",
       "  </tbody>\n",
       "</table>\n",
       "</div>"
      ],
      "text/plain": [
       "         IntersectionId  n_private_cameras                    geometry\n",
       "0  AXjK_-0aLVwDtjXR1esO                1.0  POINT (-73.85977 40.85968)\n",
       "1  AXjK_-3agxjkLnQCdqZy                2.0  POINT (-73.86871 40.85437)\n",
       "2  AXjK_-5agxjkLnQCdqZ1                1.0  POINT (-73.83625 40.85896)\n",
       "3  AXjK_-5dLVwDtjXR1esV                3.0  POINT (-73.88535 40.83256)\n",
       "4  AXjK_-6kLVwDtjXR1esX                2.0  POINT (-73.88347 40.83592)"
      ]
     },
     "execution_count": 3,
     "metadata": {},
     "output_type": "execute_result"
    }
   ],
   "source": [
    "gdf_private = gpd.GeoDataFrame(\n",
    "    df_private, geometry=gpd.points_from_xy(df_private[\"Long\"], df_private[\"Lat\"])\n",
    ").drop([\"Lat\", \"Long\"], axis=1)\n",
    "\n",
    "gdf_private.info()\n",
    "gdf_private.head()"
   ]
  },
  {
   "cell_type": "code",
   "execution_count": 4,
   "metadata": {},
   "outputs": [],
   "source": [
    "gdf_private.to_file(\"data/processed/intersections-private\", driver=\"GeoJSON\")"
   ]
  },
  {
   "cell_type": "markdown",
   "metadata": {},
   "source": [
    "## Calculate min/max private camera numbers"
   ]
  },
  {
   "cell_type": "code",
   "execution_count": 5,
   "metadata": {},
   "outputs": [
    {
     "name": "stdout",
     "output_type": "stream",
     "text": [
      "1.0 16.0\n"
     ]
    }
   ],
   "source": [
    "print(\n",
    "    df_private[\"n_private_cameras\"].min(),\n",
    "    df_private[\"n_private_cameras\"].max(),\n",
    ")"
   ]
  },
  {
   "cell_type": "markdown",
   "metadata": {},
   "source": [
    "## Import intersections/public cameras data"
   ]
  },
  {
   "cell_type": "code",
   "execution_count": 6,
   "metadata": {},
   "outputs": [
    {
     "name": "stdout",
     "output_type": "stream",
     "text": [
      "<class 'pandas.core.frame.DataFrame'>\n",
      "RangeIndex: 1384 entries, 0 to 1383\n",
      "Data columns (total 4 columns):\n",
      " #   Column            Non-Null Count  Dtype  \n",
      "---  ------            --------------  -----  \n",
      " 0   IntersectionId    1384 non-null   object \n",
      " 1   n_public_cameras  1384 non-null   int64  \n",
      " 2   Lat               1384 non-null   float64\n",
      " 3   Long              1384 non-null   float64\n",
      "dtypes: float64(2), int64(1), object(1)\n",
      "memory usage: 43.4+ KB\n"
     ]
    },
    {
     "data": {
      "text/html": [
       "<div>\n",
       "<style scoped>\n",
       "    .dataframe tbody tr th:only-of-type {\n",
       "        vertical-align: middle;\n",
       "    }\n",
       "\n",
       "    .dataframe tbody tr th {\n",
       "        vertical-align: top;\n",
       "    }\n",
       "\n",
       "    .dataframe thead th {\n",
       "        text-align: right;\n",
       "    }\n",
       "</style>\n",
       "<table border=\"1\" class=\"dataframe\">\n",
       "  <thead>\n",
       "    <tr style=\"text-align: right;\">\n",
       "      <th></th>\n",
       "      <th>IntersectionId</th>\n",
       "      <th>n_public_cameras</th>\n",
       "      <th>Lat</th>\n",
       "      <th>Long</th>\n",
       "    </tr>\n",
       "  </thead>\n",
       "  <tbody>\n",
       "    <tr>\n",
       "      <th>0</th>\n",
       "      <td>AXjK_--uLVwDtjXR1ese</td>\n",
       "      <td>1</td>\n",
       "      <td>40.856624</td>\n",
       "      <td>-73.869245</td>\n",
       "    </tr>\n",
       "    <tr>\n",
       "      <th>1</th>\n",
       "      <td>AXjK_-S5LVwDtjXR1era</td>\n",
       "      <td>2</td>\n",
       "      <td>40.812405</td>\n",
       "      <td>-73.929732</td>\n",
       "    </tr>\n",
       "    <tr>\n",
       "      <th>2</th>\n",
       "      <td>AXjK_-_0LVwDtjXR1esg</td>\n",
       "      <td>1</td>\n",
       "      <td>40.857199</td>\n",
       "      <td>-73.868840</td>\n",
       "    </tr>\n",
       "    <tr>\n",
       "      <th>3</th>\n",
       "      <td>AXjK_-n-gxjkLnQCdqZZ</td>\n",
       "      <td>1</td>\n",
       "      <td>40.855544</td>\n",
       "      <td>-73.887545</td>\n",
       "    </tr>\n",
       "    <tr>\n",
       "      <th>4</th>\n",
       "      <td>AXjK_-xKLVwDtjXR1esJ</td>\n",
       "      <td>2</td>\n",
       "      <td>40.859547</td>\n",
       "      <td>-73.867351</td>\n",
       "    </tr>\n",
       "  </tbody>\n",
       "</table>\n",
       "</div>"
      ],
      "text/plain": [
       "         IntersectionId  n_public_cameras        Lat       Long\n",
       "0  AXjK_--uLVwDtjXR1ese                 1  40.856624 -73.869245\n",
       "1  AXjK_-S5LVwDtjXR1era                 2  40.812405 -73.929732\n",
       "2  AXjK_-_0LVwDtjXR1esg                 1  40.857199 -73.868840\n",
       "3  AXjK_-n-gxjkLnQCdqZZ                 1  40.855544 -73.887545\n",
       "4  AXjK_-xKLVwDtjXR1esJ                 2  40.859547 -73.867351"
      ]
     },
     "execution_count": 6,
     "metadata": {},
     "output_type": "execute_result"
    }
   ],
   "source": [
    "df_public = pd.read_csv(\n",
    "    \"data/raw/all_intersections_with_public_cameras_and_how_many-martyna.csv\",\n",
    "    usecols=[0, 1, 7, 8],\n",
    ")\n",
    "\n",
    "df_public.info()\n",
    "df_public.head()"
   ]
  },
  {
   "cell_type": "code",
   "execution_count": 7,
   "metadata": {},
   "outputs": [
    {
     "name": "stdout",
     "output_type": "stream",
     "text": [
      "<class 'geopandas.geodataframe.GeoDataFrame'>\n",
      "RangeIndex: 1384 entries, 0 to 1383\n",
      "Data columns (total 3 columns):\n",
      " #   Column            Non-Null Count  Dtype   \n",
      "---  ------            --------------  -----   \n",
      " 0   IntersectionId    1384 non-null   object  \n",
      " 1   n_public_cameras  1384 non-null   int64   \n",
      " 2   geometry          1384 non-null   geometry\n",
      "dtypes: geometry(1), int64(1), object(1)\n",
      "memory usage: 32.6+ KB\n"
     ]
    },
    {
     "data": {
      "text/html": [
       "<div>\n",
       "<style scoped>\n",
       "    .dataframe tbody tr th:only-of-type {\n",
       "        vertical-align: middle;\n",
       "    }\n",
       "\n",
       "    .dataframe tbody tr th {\n",
       "        vertical-align: top;\n",
       "    }\n",
       "\n",
       "    .dataframe thead th {\n",
       "        text-align: right;\n",
       "    }\n",
       "</style>\n",
       "<table border=\"1\" class=\"dataframe\">\n",
       "  <thead>\n",
       "    <tr style=\"text-align: right;\">\n",
       "      <th></th>\n",
       "      <th>IntersectionId</th>\n",
       "      <th>n_public_cameras</th>\n",
       "      <th>geometry</th>\n",
       "    </tr>\n",
       "  </thead>\n",
       "  <tbody>\n",
       "    <tr>\n",
       "      <th>0</th>\n",
       "      <td>AXjK_--uLVwDtjXR1ese</td>\n",
       "      <td>1</td>\n",
       "      <td>POINT (-73.86925 40.85662)</td>\n",
       "    </tr>\n",
       "    <tr>\n",
       "      <th>1</th>\n",
       "      <td>AXjK_-S5LVwDtjXR1era</td>\n",
       "      <td>2</td>\n",
       "      <td>POINT (-73.92973 40.81241)</td>\n",
       "    </tr>\n",
       "    <tr>\n",
       "      <th>2</th>\n",
       "      <td>AXjK_-_0LVwDtjXR1esg</td>\n",
       "      <td>1</td>\n",
       "      <td>POINT (-73.86884 40.85720)</td>\n",
       "    </tr>\n",
       "    <tr>\n",
       "      <th>3</th>\n",
       "      <td>AXjK_-n-gxjkLnQCdqZZ</td>\n",
       "      <td>1</td>\n",
       "      <td>POINT (-73.88754 40.85554)</td>\n",
       "    </tr>\n",
       "    <tr>\n",
       "      <th>4</th>\n",
       "      <td>AXjK_-xKLVwDtjXR1esJ</td>\n",
       "      <td>2</td>\n",
       "      <td>POINT (-73.86735 40.85955)</td>\n",
       "    </tr>\n",
       "  </tbody>\n",
       "</table>\n",
       "</div>"
      ],
      "text/plain": [
       "         IntersectionId  n_public_cameras                    geometry\n",
       "0  AXjK_--uLVwDtjXR1ese                 1  POINT (-73.86925 40.85662)\n",
       "1  AXjK_-S5LVwDtjXR1era                 2  POINT (-73.92973 40.81241)\n",
       "2  AXjK_-_0LVwDtjXR1esg                 1  POINT (-73.86884 40.85720)\n",
       "3  AXjK_-n-gxjkLnQCdqZZ                 1  POINT (-73.88754 40.85554)\n",
       "4  AXjK_-xKLVwDtjXR1esJ                 2  POINT (-73.86735 40.85955)"
      ]
     },
     "execution_count": 7,
     "metadata": {},
     "output_type": "execute_result"
    }
   ],
   "source": [
    "gdf_public = gpd.GeoDataFrame(\n",
    "    df_public, geometry=gpd.points_from_xy(df_public[\"Long\"], df_public[\"Lat\"])\n",
    ").drop([\"Lat\", \"Long\"], axis=1)\n",
    "\n",
    "gdf_public.info()\n",
    "gdf_public.head()"
   ]
  },
  {
   "cell_type": "code",
   "execution_count": 8,
   "metadata": {},
   "outputs": [],
   "source": [
    "gdf_public.to_file(\"data/processed/intersections-public\", driver=\"GeoJSON\")"
   ]
  },
  {
   "cell_type": "markdown",
   "metadata": {},
   "source": [
    "## Calculate min/max public camera numbers"
   ]
  },
  {
   "cell_type": "code",
   "execution_count": 9,
   "metadata": {},
   "outputs": [
    {
     "name": "stdout",
     "output_type": "stream",
     "text": [
      "1 8\n"
     ]
    }
   ],
   "source": [
    "print(\n",
    "    df_public[\"n_public_cameras\"].min(),\n",
    "    df_public[\"n_public_cameras\"].max(),\n",
    ")"
   ]
  }
 ],
 "metadata": {
  "kernelspec": {
   "display_name": "Python 3",
   "language": "python",
   "name": "python3"
  },
  "language_info": {
   "codemirror_mode": {
    "name": "ipython",
    "version": 3
   },
   "file_extension": ".py",
   "mimetype": "text/x-python",
   "name": "python",
   "nbconvert_exporter": "python",
   "pygments_lexer": "ipython3",
   "version": "3.8.6"
  }
 },
 "nbformat": 4,
 "nbformat_minor": 4
}
