{
 "cells": [
  {
   "cell_type": "code",
   "execution_count": 1,
   "metadata": {},
   "outputs": [],
   "source": [
    "import pandas as pd"
   ]
  },
  {
   "cell_type": "markdown",
   "metadata": {},
   "source": [
    "# Intersections data"
   ]
  },
  {
   "cell_type": "markdown",
   "metadata": {},
   "source": [
    "## Load data from Julien/Swetha (all boroughs)"
   ]
  },
  {
   "cell_type": "code",
   "execution_count": 2,
   "metadata": {},
   "outputs": [
    {
     "name": "stdout",
     "output_type": "stream",
     "text": [
      "<class 'pandas.core.frame.DataFrame'>\n",
      "RangeIndex: 19561 entries, 0 to 19560\n",
      "Data columns (total 7 columns):\n",
      " #   Column           Non-Null Count  Dtype  \n",
      "---  ------           --------------  -----  \n",
      " 0   intersection_id  19561 non-null  object \n",
      " 1   borough          19561 non-null  object \n",
      " 2   x                19561 non-null  float64\n",
      " 3   y                19561 non-null  float64\n",
      " 4   public_median    19561 non-null  int64  \n",
      " 5   private_median   19561 non-null  int64  \n",
      " 6   total_median     19561 non-null  int64  \n",
      "dtypes: float64(2), int64(3), object(2)\n",
      "memory usage: 1.0+ MB\n"
     ]
    },
    {
     "data": {
      "text/html": [
       "<div>\n",
       "<style scoped>\n",
       "    .dataframe tbody tr th:only-of-type {\n",
       "        vertical-align: middle;\n",
       "    }\n",
       "\n",
       "    .dataframe tbody tr th {\n",
       "        vertical-align: top;\n",
       "    }\n",
       "\n",
       "    .dataframe thead th {\n",
       "        text-align: right;\n",
       "    }\n",
       "</style>\n",
       "<table border=\"1\" class=\"dataframe\">\n",
       "  <thead>\n",
       "    <tr style=\"text-align: right;\">\n",
       "      <th></th>\n",
       "      <th>intersection_id</th>\n",
       "      <th>borough</th>\n",
       "      <th>x</th>\n",
       "      <th>y</th>\n",
       "      <th>public_median</th>\n",
       "      <th>private_median</th>\n",
       "      <th>total_median</th>\n",
       "    </tr>\n",
       "  </thead>\n",
       "  <tbody>\n",
       "    <tr>\n",
       "      <th>0</th>\n",
       "      <td>AXkw4--42iuwklCl-qpo</td>\n",
       "      <td>Brooklyn</td>\n",
       "      <td>-73.937041</td>\n",
       "      <td>40.641658</td>\n",
       "      <td>0</td>\n",
       "      <td>0</td>\n",
       "      <td>0</td>\n",
       "    </tr>\n",
       "    <tr>\n",
       "      <th>1</th>\n",
       "      <td>AXkw4--72iuwklCl-qpp</td>\n",
       "      <td>Brooklyn</td>\n",
       "      <td>-73.972466</td>\n",
       "      <td>40.696180</td>\n",
       "      <td>0</td>\n",
       "      <td>0</td>\n",
       "      <td>0</td>\n",
       "    </tr>\n",
       "    <tr>\n",
       "      <th>2</th>\n",
       "      <td>AXkw4--b2iuwklCl-qpn</td>\n",
       "      <td>Brooklyn</td>\n",
       "      <td>-73.971872</td>\n",
       "      <td>40.693210</td>\n",
       "      <td>0</td>\n",
       "      <td>2</td>\n",
       "      <td>2</td>\n",
       "    </tr>\n",
       "    <tr>\n",
       "      <th>3</th>\n",
       "      <td>AXkw4-062iuwklCl-qpH</td>\n",
       "      <td>Brooklyn</td>\n",
       "      <td>-73.954281</td>\n",
       "      <td>40.640589</td>\n",
       "      <td>0</td>\n",
       "      <td>0</td>\n",
       "      <td>0</td>\n",
       "    </tr>\n",
       "    <tr>\n",
       "      <th>4</th>\n",
       "      <td>AXkw4-072iuwklCl-qpI</td>\n",
       "      <td>Brooklyn</td>\n",
       "      <td>-73.988546</td>\n",
       "      <td>40.702483</td>\n",
       "      <td>0</td>\n",
       "      <td>1</td>\n",
       "      <td>1</td>\n",
       "    </tr>\n",
       "  </tbody>\n",
       "</table>\n",
       "</div>"
      ],
      "text/plain": [
       "        intersection_id   borough          x          y  public_median  \\\n",
       "0  AXkw4--42iuwklCl-qpo  Brooklyn -73.937041  40.641658              0   \n",
       "1  AXkw4--72iuwklCl-qpp  Brooklyn -73.972466  40.696180              0   \n",
       "2  AXkw4--b2iuwklCl-qpn  Brooklyn -73.971872  40.693210              0   \n",
       "3  AXkw4-062iuwklCl-qpH  Brooklyn -73.954281  40.640589              0   \n",
       "4  AXkw4-072iuwklCl-qpI  Brooklyn -73.988546  40.702483              0   \n",
       "\n",
       "   private_median  total_median  \n",
       "0               0             0  \n",
       "1               0             0  \n",
       "2               2             2  \n",
       "3               0             0  \n",
       "4               1             1  "
      ]
     },
     "execution_count": 2,
     "metadata": {},
     "output_type": "execute_result"
    }
   ],
   "source": [
    "df_intersections = (\n",
    "    pd.read_csv(\n",
    "        \"data/raw/intersections_with_medians-2021-05-19.csv\",\n",
    "        usecols=[0, 2, 3, 4, 9, 10],\n",
    "        dtype={\"public_median\": \"int64\", \"private_median\": \"int64\"},\n",
    "    )\n",
    "    .rename(\n",
    "        {\n",
    "            \"IntersectionId\": \"intersection_id\",\n",
    "            \"Borough\": \"borough\",\n",
    "            \"Long\": \"x\",\n",
    "            \"Lat\": \"y\",\n",
    "        },\n",
    "        axis=1,\n",
    "    )\n",
    "    .assign(total_median=lambda df: df[\"public_median\"] + df[\"private_median\"])\n",
    ")\n",
    "\n",
    "df_intersections.info()\n",
    "df_intersections.head()"
   ]
  },
  {
   "cell_type": "markdown",
   "metadata": {},
   "source": [
    "## Export to `.csv` for points adjustment in QGIS"
   ]
  },
  {
   "cell_type": "code",
   "execution_count": 3,
   "metadata": {},
   "outputs": [],
   "source": [
    "df_intersections.to_csv(\"data/processed/camera-medians-2021-05-19.csv\", index=False)"
   ]
  },
  {
   "cell_type": "markdown",
   "metadata": {},
   "source": [
    "[Perform points adjustment in QGIS; Julien and Swetha join adjusted NTAs to intersections data]"
   ]
  },
  {
   "cell_type": "markdown",
   "metadata": {},
   "source": [
    "## Load intersections data with adjusted NTAs from Julien/Swetha (three boroughs)"
   ]
  },
  {
   "cell_type": "code",
   "execution_count": 4,
   "metadata": {},
   "outputs": [
    {
     "name": "stdout",
     "output_type": "stream",
     "text": [
      "<class 'pandas.core.frame.DataFrame'>\n",
      "RangeIndex: 19396 entries, 0 to 19395\n",
      "Data columns (total 7 columns):\n",
      " #   Column            Non-Null Count  Dtype \n",
      "---  ------            --------------  ----- \n",
      " 0   intersection_id   19396 non-null  object\n",
      " 1   borough           19396 non-null  object\n",
      " 2   public_median     19396 non-null  int64 \n",
      " 3   private_median    19396 non-null  int64 \n",
      " 4   total_median      19396 non-null  int64 \n",
      " 5   adjusted_NTACode  19396 non-null  object\n",
      " 6   adjusted_NTAName  19396 non-null  object\n",
      "dtypes: int64(3), object(4)\n",
      "memory usage: 1.0+ MB\n"
     ]
    },
    {
     "data": {
      "text/html": [
       "<div>\n",
       "<style scoped>\n",
       "    .dataframe tbody tr th:only-of-type {\n",
       "        vertical-align: middle;\n",
       "    }\n",
       "\n",
       "    .dataframe tbody tr th {\n",
       "        vertical-align: top;\n",
       "    }\n",
       "\n",
       "    .dataframe thead th {\n",
       "        text-align: right;\n",
       "    }\n",
       "</style>\n",
       "<table border=\"1\" class=\"dataframe\">\n",
       "  <thead>\n",
       "    <tr style=\"text-align: right;\">\n",
       "      <th></th>\n",
       "      <th>intersection_id</th>\n",
       "      <th>borough</th>\n",
       "      <th>public_median</th>\n",
       "      <th>private_median</th>\n",
       "      <th>total_median</th>\n",
       "      <th>adjusted_NTACode</th>\n",
       "      <th>adjusted_NTAName</th>\n",
       "    </tr>\n",
       "  </thead>\n",
       "  <tbody>\n",
       "    <tr>\n",
       "      <th>0</th>\n",
       "      <td>AXkw4-uH2iuwklCl-qox</td>\n",
       "      <td>Brooklyn</td>\n",
       "      <td>0</td>\n",
       "      <td>1</td>\n",
       "      <td>1</td>\n",
       "      <td>BK88</td>\n",
       "      <td>Borough Park</td>\n",
       "    </tr>\n",
       "    <tr>\n",
       "      <th>1</th>\n",
       "      <td>AXkw40-B2iuwklCl-qao</td>\n",
       "      <td>Brooklyn</td>\n",
       "      <td>0</td>\n",
       "      <td>0</td>\n",
       "      <td>0</td>\n",
       "      <td>BK88</td>\n",
       "      <td>Borough Park</td>\n",
       "    </tr>\n",
       "    <tr>\n",
       "      <th>2</th>\n",
       "      <td>AXkw40-x2iuwklCl-qap</td>\n",
       "      <td>Brooklyn</td>\n",
       "      <td>0</td>\n",
       "      <td>1</td>\n",
       "      <td>1</td>\n",
       "      <td>BK88</td>\n",
       "      <td>Borough Park</td>\n",
       "    </tr>\n",
       "    <tr>\n",
       "      <th>3</th>\n",
       "      <td>AXkw405zLVwDtjXR1gOB</td>\n",
       "      <td>Brooklyn</td>\n",
       "      <td>0</td>\n",
       "      <td>1</td>\n",
       "      <td>1</td>\n",
       "      <td>BK88</td>\n",
       "      <td>Borough Park</td>\n",
       "    </tr>\n",
       "    <tr>\n",
       "      <th>4</th>\n",
       "      <td>AXkw406iLVwDtjXR1gOC</td>\n",
       "      <td>Brooklyn</td>\n",
       "      <td>0</td>\n",
       "      <td>0</td>\n",
       "      <td>0</td>\n",
       "      <td>BK88</td>\n",
       "      <td>Borough Park</td>\n",
       "    </tr>\n",
       "  </tbody>\n",
       "</table>\n",
       "</div>"
      ],
      "text/plain": [
       "        intersection_id   borough  public_median  private_median  \\\n",
       "0  AXkw4-uH2iuwklCl-qox  Brooklyn              0               1   \n",
       "1  AXkw40-B2iuwklCl-qao  Brooklyn              0               0   \n",
       "2  AXkw40-x2iuwklCl-qap  Brooklyn              0               1   \n",
       "3  AXkw405zLVwDtjXR1gOB  Brooklyn              0               1   \n",
       "4  AXkw406iLVwDtjXR1gOC  Brooklyn              0               0   \n",
       "\n",
       "   total_median adjusted_NTACode adjusted_NTAName  \n",
       "0             1             BK88     Borough Park  \n",
       "1             0             BK88     Borough Park  \n",
       "2             1             BK88     Borough Park  \n",
       "3             1             BK88     Borough Park  \n",
       "4             0             BK88     Borough Park  "
      ]
     },
     "execution_count": 4,
     "metadata": {},
     "output_type": "execute_result"
    }
   ],
   "source": [
    "df_intersections_adj = pd.read_csv(\n",
    "    \"data/processed/camera-medians-2021-05-19-ntas-adjusted-recoded.csv\"\n",
    ")\n",
    "\n",
    "df_intersections_adj.info()\n",
    "df_intersections_adj.head()"
   ]
  },
  {
   "cell_type": "markdown",
   "metadata": {},
   "source": [
    "## Group adjusted intersections by NTA (sum medians)"
   ]
  },
  {
   "cell_type": "code",
   "execution_count": null,
   "metadata": {},
   "outputs": [],
   "source": [
    "# Should be 114 rows"
   ]
  },
  {
   "cell_type": "markdown",
   "metadata": {},
   "source": [
    "## Export grouped data to `.csv` for joining to NTA polygons in QGIS"
   ]
  },
  {
   "cell_type": "code",
   "execution_count": null,
   "metadata": {},
   "outputs": [],
   "source": [
    "# TKTK"
   ]
  },
  {
   "cell_type": "markdown",
   "metadata": {},
   "source": [
    "## Calculate top-line statistics"
   ]
  },
  {
   "cell_type": "code",
   "execution_count": null,
   "metadata": {},
   "outputs": [],
   "source": [
    "# TKTK"
   ]
  }
 ],
 "metadata": {
  "kernelspec": {
   "display_name": "Python 3",
   "language": "python",
   "name": "python3"
  },
  "language_info": {
   "codemirror_mode": {
    "name": "ipython",
    "version": 3
   },
   "file_extension": ".py",
   "mimetype": "text/x-python",
   "name": "python",
   "nbconvert_exporter": "python",
   "pygments_lexer": "ipython3",
   "version": "3.8.6"
  }
 },
 "nbformat": 4,
 "nbformat_minor": 4
}
